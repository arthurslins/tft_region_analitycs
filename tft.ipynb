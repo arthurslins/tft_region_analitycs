{
 "cells": [
  {
   "cell_type": "code",
   "execution_count": 1,
   "metadata": {},
   "outputs": [],
   "source": [
    "import streamlit as st\n",
    "import pandas as pd\n",
    "import numpy as np\n",
    "import json\n",
    "import requests"
   ]
  },
  {
   "cell_type": "code",
   "execution_count": 2,
   "metadata": {},
   "outputs": [
    {
     "name": "stderr",
     "output_type": "stream",
     "text": [
      "2021-12-15 12:10:29.973 \n",
      "  \u001b[33m\u001b[1mWarning:\u001b[0m to view this Streamlit app on a browser, run it with the following\n",
      "  command:\n",
      "\n",
      "    streamlit run ipykernel_launcher [ARGUMENTS]\n"
     ]
    }
   ],
   "source": [
    "lista_server=[\"BR1\",\"EUW1\",\"JP1\",\"KR\",\"NA1\"]\n",
    "\n",
    "server = st.selectbox(\n",
    "    'Escolha um server?',\n",
    "    lista_server)"
   ]
  },
  {
   "cell_type": "code",
   "execution_count": 13,
   "metadata": {},
   "outputs": [],
   "source": [
    "lista_chaa=requests.get(f\"https://{server}.api.riotgames.com/tft/league/v1/challenger?api_key=RGAPI-68951cc5-0345-4a6e-af85-d9e541ec159c\").json()\n",
    "lista_gm=requests.get(f\"https://{server}.api.riotgames.com/tft/league/v1/grandmaster?api_key=RGAPI-68951cc5-0345-4a6e-af85-d9e541ec159c\").json()\n",
    "\n",
    "nick=[]\n",
    "for i in range(len(lista_chaa[\"entries\"])):\n",
    "    nick.append(lista_chaa['entries'][i][\"summonerName\"])\n",
    "\n",
    "lp=[]\n",
    "for i in range(len(lista_chaa[\"entries\"])):\n",
    "    lp.append(lista_chaa['entries'][i][\"leaguePoints\"])\n",
    "\n",
    "df=pd.DataFrame(lp,nick).reset_index().rename(columns={\"index\":\"nick\",0:\"lp\"})\n",
    "df=df.sort_values(\"lp\",ascending=False).reset_index(drop=True)  \n",
    "nick=[]\n",
    "\n",
    "for i in range(len(lista_gm[\"entries\"])):\n",
    "    \n",
    "    nick.append(lista_gm['entries'][i][\"summonerName\"])\n",
    "lp=[]\n",
    "for i in range(len(lista_gm[\"entries\"])):\n",
    "    lp.append(lista_gm['entries'][i][\"leaguePoints\"])\n",
    "\n",
    "df1=pd.DataFrame(lp,nick).reset_index().rename(columns={\"index\":\"nick\",0:\"lp\"})\n",
    "df1=df1.sort_values(\"lp\",ascending=False).reset_index(drop=True)\n",
    "dff=df.append(df1).reset_index(drop=True)"
   ]
  },
  {
   "cell_type": "code",
   "execution_count": null,
   "metadata": {},
   "outputs": [],
   "source": [
    "games=[]\n",
    "for i in range(len(lista_chaa[\"entries\"])):\n",
    "    nick.append(lista_chaa['entries'][i][\"summonerName\"])"
   ]
  },
  {
   "cell_type": "code",
   "execution_count": 18,
   "metadata": {},
   "outputs": [
    {
     "ename": "KeyError",
     "evalue": "'lose'",
     "output_type": "error",
     "traceback": [
      "\u001b[1;31m---------------------------------------------------------------------------\u001b[0m",
      "\u001b[1;31mKeyError\u001b[0m                                  Traceback (most recent call last)",
      "\u001b[1;32m<ipython-input-18-a810edd0acbd>\u001b[0m in \u001b[0;36m<module>\u001b[1;34m\u001b[0m\n\u001b[1;32m----> 1\u001b[1;33m \u001b[0mlista_chaa\u001b[0m\u001b[1;33m[\u001b[0m\u001b[1;34m\"entries\"\u001b[0m\u001b[1;33m]\u001b[0m\u001b[1;33m[\u001b[0m\u001b[1;36m0\u001b[0m\u001b[1;33m]\u001b[0m\u001b[1;33m[\u001b[0m\u001b[1;34m\"wins\"\u001b[0m\u001b[1;33m]\u001b[0m\u001b[1;33m+\u001b[0m\u001b[0mlista_chaa\u001b[0m\u001b[1;33m[\u001b[0m\u001b[1;34m\"entries\"\u001b[0m\u001b[1;33m]\u001b[0m\u001b[1;33m[\u001b[0m\u001b[1;36m0\u001b[0m\u001b[1;33m]\u001b[0m\u001b[1;33m[\u001b[0m\u001b[1;34m\"lose\"\u001b[0m\u001b[1;33m]\u001b[0m\u001b[1;33m\u001b[0m\u001b[1;33m\u001b[0m\u001b[0m\n\u001b[0m",
      "\u001b[1;31mKeyError\u001b[0m: 'lose'"
     ]
    }
   ],
   "source": [
    "lista_chaa[\"entries\"][0][\"wins\"]+lista_chaa[\"entries\"][0][\"lose\"]"
   ]
  },
  {
   "cell_type": "code",
   "execution_count": 3,
   "metadata": {},
   "outputs": [],
   "source": [
    "def criar(server):\n",
    "        \n",
    "        lista_chaa=requests.get(f\"https://{server}.api.riotgames.com/tft/league/v1/challenger?api_key=RGAPI-68951cc5-0345-4a6e-af85-d9e541ec159c\").json()\n",
    "        lista_gm=requests.get(f\"https://{server}.api.riotgames.com/tft/league/v1/grandmaster?api_key=RGAPI-68951cc5-0345-4a6e-af85-d9e541ec159c\").json()\n",
    "    \n",
    "        nick=[]\n",
    "        for i in range(len(lista_chaa[\"entries\"])):\n",
    "            nick.append(lista_chaa['entries'][i][\"summonerName\"])\n",
    "        \n",
    "        lp=[]\n",
    "        for i in range(len(lista_chaa[\"entries\"])):\n",
    "            lp.append(lista_chaa['entries'][i][\"leaguePoints\"])\n",
    "        \n",
    "        df=pd.DataFrame(lp,nick).reset_index().rename(columns={\"index\":\"nick\",0:\"lp\"})\n",
    "        df=df.sort_values(\"lp\",ascending=False).reset_index(drop=True)  \n",
    "        nick=[]\n",
    "        \n",
    "        for i in range(len(lista_gm[\"entries\"])):\n",
    "            \n",
    "            nick.append(lista_gm['entries'][i][\"summonerName\"])\n",
    "        lp=[]\n",
    "        for i in range(len(lista_gm[\"entries\"])):\n",
    "            lp.append(lista_gm['entries'][i][\"leaguePoints\"])\n",
    "        \n",
    "        df1=pd.DataFrame(lp,nick).reset_index().rename(columns={\"index\":\"nick\",0:\"lp\"})\n",
    "        df1=df1.sort_values(\"lp\",ascending=False).reset_index(drop=True)\n",
    "        dff=df.append(df1).reset_index(drop=True)\n",
    "        # dff.index += 1\n",
    "        \n",
    "        return dff\n"
   ]
  },
  {
   "cell_type": "code",
   "execution_count": 10,
   "metadata": {},
   "outputs": [
    {
     "name": "stderr",
     "output_type": "stream",
     "text": [
      "2021-12-15 12:11:53.385 Note: NumExpr detected 12 cores but \"NUMEXPR_MAX_THREADS\" not set, so enforcing safe limit of 8.\n",
      "2021-12-15 12:11:53.386 NumExpr defaulting to 8 threads.\n"
     ]
    }
   ],
   "source": [
    "def day(server):\n",
    "    # for server in lista_server:\n",
    "    df=criar(server)\n",
    "    dia_ant = pd.read_csv(f\"dia_ant{server}.csv\")\n",
    "    # dia_ant.index += 1\n",
    "    parcial =  df.set_index('nick').subtract(dia_ant.set_index('nick'), fill_value=0).reset_index().sort_values(\"Unnamed: 0\",ascending = False).reset_index(drop=True)\n",
    "    parcial=parcial[[\"nick\",\"lp\"]]\n",
    "    parcial.rename(columns={\"lp\":\"lp_diario\"},inplace=True)\n",
    "    parcial[\"lp\"]=(dia_ant[\"lp\"]+parcial[\"lp_diario\"])\n",
    "    parcial=parcial.sort_values(\"lp_diario\",ascending=False).reset_index(drop=True)\n",
    "    parcial.sort_values(['lp_diario', 'lp'], ascending=[False, False], inplace=True)\n",
    "    # parcial.index += 1\n",
    "\n",
    "    parcial.to_csv(f\"parcial{server}.csv\")\n",
    "\n",
    "\n",
    "\n",
    "    return parcial,df\n",
    "parcial,df = day(server)"
   ]
  },
  {
   "cell_type": "code",
   "execution_count": 11,
   "metadata": {},
   "outputs": [],
   "source": [
    "if st.button(\"Calcular lps diários\"):\n",
    "    \n",
    "\n",
    "    parcial.reset_index(drop=True)\n",
    "    parcial.index += 1\n",
    "    st.write(parcial)\n",
    "\n",
    "def troca(df):\n",
    "    dia_ant=df\n",
    "    dia_ant = dia_ant.to_csv(f\"dia_ant{server}.csv\")\n",
    "\n",
    "\n",
    "    return\n",
    "\n",
    "if st.button(\"Atualizar o dia\"):\n",
    "    troca(df)\n",
    "\n",
    "    \n",
    "\n",
    "\n",
    "\n"
   ]
  },
  {
   "cell_type": "code",
   "execution_count": null,
   "metadata": {},
   "outputs": [],
   "source": []
  }
 ],
 "metadata": {
  "interpreter": {
   "hash": "16f8755b6db9cd6f3471dde68966196c6b620b8786bc144806187fd938d2d870"
  },
  "kernelspec": {
   "display_name": "Python 3.8.8 64-bit ('base': conda)",
   "name": "python3"
  },
  "language_info": {
   "codemirror_mode": {
    "name": "ipython",
    "version": 3
   },
   "file_extension": ".py",
   "mimetype": "text/x-python",
   "name": "python",
   "nbconvert_exporter": "python",
   "pygments_lexer": "ipython3",
   "version": "3.8.8"
  },
  "orig_nbformat": 4
 },
 "nbformat": 4,
 "nbformat_minor": 2
}
